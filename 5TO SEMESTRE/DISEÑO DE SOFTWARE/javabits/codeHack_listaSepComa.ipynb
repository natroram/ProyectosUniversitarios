{
  "nbformat": 4,
  "nbformat_minor": 0,
  "metadata": {
    "colab": {
      "name": "codeHack_listaSepComa.ipynb",
      "version": "0.3.2",
      "provenance": [],
      "collapsed_sections": [],
      "include_colab_link": true
    },
    "kernelspec": {
      "name": "python3",
      "display_name": "Python 3"
    }
  },
  "cells": [
    {
      "cell_type": "markdown",
      "metadata": {
        "id": "view-in-github",
        "colab_type": "text"
      },
      "source": [
        "[View in Colaboratory](https://colab.research.google.com/github/vecalciskay/javabits/blob/master/codeHack_listaSepComa.ipynb)"
      ]
    },
    {
      "metadata": {
        "id": "j_bd-L82QZQX",
        "colab_type": "text"
      },
      "cell_type": "markdown",
      "source": [
        "Ejemplo de como se debe realizar un concatenado para obtener una lista separada por comas. Observe cómo la lista elegantemente maneja el tema de la coma que no se repite al final ni al principio de la cadena"
      ]
    },
    {
      "metadata": {
        "id": "36auA3fcM853",
        "colab_type": "code",
        "colab": {
          "base_uri": "https://localhost:8080/",
          "height": 34
        },
        "outputId": "3d11fd44-cd85-4fb1-a5be-bb8995139d77"
      },
      "cell_type": "code",
      "source": [
        "unArreglo = [4,6,4,2,2,4,6,7,7,9,8]\n",
        "concatenado = ''\n",
        "separador = ''\n",
        "for unNum in unArreglo:\n",
        "  concatenado = concatenado + separador + str(unNum)\n",
        "  separador = ','\n",
        "\n",
        "print(concatenado)"
      ],
      "execution_count": 5,
      "outputs": [
        {
          "output_type": "stream",
          "text": [
            "4,6,4,2,2,4,6,7,7,9,8\n"
          ],
          "name": "stdout"
        }
      ]
    }
  ]
}